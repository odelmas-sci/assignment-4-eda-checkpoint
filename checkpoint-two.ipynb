{
 "cells": [
  {
   "cell_type": "markdown",
   "metadata": {
    "azdata_cell_guid": "151601c9-ca7a-412e-af80-c62a87e0837e"
   },
   "source": [
    "# Checkpoint Two: Exploratory Data Analysis\n",
    "\n",
    "Now that your chosen dataset is approved, it is time to start working on your analysis. Use this notebook to perform your EDA and make notes where directed to as you work.\n",
    "\n",
    "## Getting Started\n",
    "\n",
    "Since we have not provided your dataset for you, you will need to load the necessary files in this repository. Make sure to include a link back to the original dataset here as well.\n",
    "\n",
    "My dataset: https://www.kaggle.com/datasets/travistyler/dnd-5e-monster-manual-stats?select=cleaned_monsters_basic.csv\n",
    "\n",
    "I will only be working with the sheet cleaned_monsters_basic.csv\n",
    "\n",
    "Your first task in EDA is to import necessary libraries and create a dataframe(s). Make note in the form of code comments of what your thought process is as you work on this setup task."
   ]
  },
  {
   "cell_type": "code",
   "execution_count": 1,
   "metadata": {
    "azdata_cell_guid": "7b503e37-6df5-4433-acfb-678b1346db14"
   },
   "outputs": [
    {
     "data": {
      "text/plain": [
       "Index(['Unnamed: 0', 'name', 'size', 'monster_type', 'alignment', 'ac', 'hp',\n",
       "       'strength', 'str_mod', 'dex', 'dex_mod', 'con', 'con_mod', 'intel',\n",
       "       'int_mod', 'wis', 'wis_mod', 'cha', 'cha_mod', 'senses', 'languages',\n",
       "       'cr', 'str_save', 'dex_save', 'con_save', 'int_save', 'wis_save',\n",
       "       'cha_save', 'speed', 'swim', 'fly', 'climb', 'burrow',\n",
       "       'number_legendary_actions', 'history', 'perception', 'stealth',\n",
       "       'persuasion', 'insight', 'deception', 'arcana', 'religion',\n",
       "       'acrobatics', 'athletics', 'intimidation'],\n",
       "      dtype='object')"
      ]
     },
     "execution_count": 1,
     "metadata": {},
     "output_type": "execute_result"
    }
   ],
   "source": [
    "import pandas as pd\n",
    "import numpy as np\n",
    "import matplotlib.pyplot as plt\n",
    "import seaborn as sns\n",
    "\n",
    "#importing the original csv file before cleaning\n",
    "monsters_original = pd.read_csv('cleaned_monsters_basic.csv')\n",
    "\n",
    "monsters_df = pd.DataFrame(monsters_original)\n",
    "\n",
    "monsters_df.columns"
   ]
  },
  {
   "cell_type": "markdown",
   "metadata": {},
   "source": [
    "# Explaining some of the columns:\n",
    "- name: \n",
    "  - monster name\n",
    "- size: \n",
    "  - size of monster (small, medium, large, etc.); most player characters are medium, so fighting larger monsters can be harder\n",
    "- monster type: \n",
    "  - Describes the kind of monster which will guide players to know how to fight the monster (ex. undead monsters are persistent and mindless)\n",
    "- alignment: \n",
    "  - Describes how the monster might respond or act in a situation. There two dimensions to alignment which are chaotic, neutral, and lawful (i.e. how much does a monster will follow laws, either of their own or their society's, versus how much a monster will be unpredictable) along with evil, neutral, and good (i.e. how benevolent or malicious the monster will act towards the players)\n",
    "- ac: \n",
    "  - armor class, how hard it is to hit (higher numbers are harder to hit)\n",
    "- hp: \n",
    "  - health points, health of the monster (again, higher numbers mean more health and require more damage to kill)\n",
    "- strength, dex (dexterity), con (constitution), intel (intelligence), wis (wisdom), and cha (charisma):\n",
    "  - Strength: how strong they are\n",
    "  - Dexterity: how fast are they to react\n",
    "  - Constitution: how likely they are to lose focus\n",
    "  - Intelligence: how smart they are (i.e. they know a tomato is a fruit) \n",
    "  - Wisdom: how wise they are (i.e. they know a tomato is a fruit, but wouldn't put it in a fruit salad)\n",
    "  - Charisma is how compelling they are, socially usually\n",
    "- str/dex/con/int/wis/cha_mod: \n",
    "  - these are modifiers that are attached to dice rolls when a monster makes an attack\n",
    "- senses: \n",
    "  - defines if they have special abilities (i.e. see in darkness or dim light)\n",
    "- languages:\n",
    "  - defines a specific language the monster might know (not all monsters speak a language)\n",
    "- cr: \n",
    "  - challenge rating, treated as like an \"average\" taking together all attributes of a monster and putting a numeric value for how difficult the monster might be in combat (higher numbers are harder monsters)\n",
    "- str/dex/con/int/wis/cha_save:\n",
    "  - these are modifiers that are attached to dice rolls when a monster makes a save against an attack\n",
    "- speed\n",
    "  - how fast the monster can move\n",
    "- swim, fly, climb, burrow: \n",
    "   - these are special movement speeds for different terrains (their speed is the default if they don't have it specified otherwise)\n",
    "- number_legendary_actions:\n",
    "  - some monsters are legendary and have legendary actions that are taken at the end of the monster's turn. These are special attacks that typically deal serious damage and rarely miss.\n",
    "- history, perception, stealth, persuasion, insight, deception, arcana, religion, acrobatics, athletics, and intimidation:\n",
    "  - skills that will only be discussed when relevant to a question"
   ]
  },
  {
   "cell_type": "code",
   "execution_count": 10,
   "metadata": {},
   "outputs": [
    {
     "name": "stdout",
     "output_type": "stream",
     "text": [
      "<class 'pandas.core.frame.DataFrame'>\n",
      "RangeIndex: 324 entries, 0 to 323\n",
      "Data columns (total 45 columns):\n",
      " #   Column                    Non-Null Count  Dtype \n",
      "---  ------                    --------------  ----- \n",
      " 0   Unnamed: 0                324 non-null    int64 \n",
      " 1   name                      324 non-null    object\n",
      " 2   size                      324 non-null    object\n",
      " 3   monster_type              324 non-null    object\n",
      " 4   alignment                 324 non-null    object\n",
      " 5   ac                        324 non-null    int64 \n",
      " 6   hp                        324 non-null    int64 \n",
      " 7   strength                  324 non-null    int64 \n",
      " 8   str_mod                   324 non-null    int64 \n",
      " 9   dex                       324 non-null    int64 \n",
      " 10  dex_mod                   324 non-null    int64 \n",
      " 11  con                       324 non-null    int64 \n",
      " 12  con_mod                   324 non-null    int64 \n",
      " 13  intel                     324 non-null    int64 \n",
      " 14  int_mod                   324 non-null    int64 \n",
      " 15  wis                       324 non-null    int64 \n",
      " 16  wis_mod                   324 non-null    int64 \n",
      " 17  cha                       324 non-null    int64 \n",
      " 18  cha_mod                   324 non-null    int64 \n",
      " 19  senses                    267 non-null    object\n",
      " 20  languages                 196 non-null    object\n",
      " 21  cr                        324 non-null    object\n",
      " 22  str_save                  324 non-null    int64 \n",
      " 23  dex_save                  324 non-null    int64 \n",
      " 24  con_save                  324 non-null    int64 \n",
      " 25  int_save                  324 non-null    int64 \n",
      " 26  wis_save                  324 non-null    int64 \n",
      " 27  cha_save                  324 non-null    int64 \n",
      " 28  speed                     324 non-null    int64 \n",
      " 29  swim                      324 non-null    int64 \n",
      " 30  fly                       324 non-null    int64 \n",
      " 31  climb                     324 non-null    int64 \n",
      " 32  burrow                    324 non-null    int64 \n",
      " 33  number_legendary_actions  324 non-null    int64 \n",
      " 34  history                   324 non-null    int64 \n",
      " 35  perception                324 non-null    int64 \n",
      " 36  stealth                   324 non-null    int64 \n",
      " 37  persuasion                324 non-null    int64 \n",
      " 38  insight                   324 non-null    int64 \n",
      " 39  deception                 324 non-null    int64 \n",
      " 40  arcana                    324 non-null    int64 \n",
      " 41  religion                  324 non-null    int64 \n",
      " 42  acrobatics                324 non-null    int64 \n",
      " 43  athletics                 324 non-null    int64 \n",
      " 44  intimidation              324 non-null    int64 \n",
      "dtypes: int64(38), object(7)\n",
      "memory usage: 114.0+ KB\n"
     ]
    }
   ],
   "source": [
    "monsters_df.info()"
   ]
  },
  {
   "cell_type": "code",
   "execution_count": 2,
   "metadata": {},
   "outputs": [
    {
     "name": "stdout",
     "output_type": "stream",
     "text": [
      "Index(['Unnamed: 0', 'name', 'size', 'monster_type', 'alignment',\n",
      "       'armor_defense', 'health', 'strength', 'str_mod', 'dex', 'dex_mod',\n",
      "       'con', 'con_mod', 'intel', 'int_mod', 'wis', 'wis_mod', 'charisma',\n",
      "       'cha_mod', 'senses', 'languages', 'challenge_rating', 'str_save',\n",
      "       'dex_save', 'con_save', 'int_save', 'wis_save', 'cha_save', 'speed',\n",
      "       'swim', 'fly', 'climb', 'burrow', 'number_legendary_actions', 'history',\n",
      "       'perception', 'stealth', 'persuasion', 'insight', 'deception', 'arcana',\n",
      "       'religion', 'acrobatics', 'athletics', 'intimidation'],\n",
      "      dtype='object')\n"
     ]
    }
   ],
   "source": [
    "#Renaming some of the columns for clarity\n",
    "monsters_renamed = monsters_df.rename({'ac': 'armor_defense', 'hp' : 'health', 'cr': 'challenge_rating', 'cha': 'charisma'}, axis = 'columns')\n",
    "print(monsters_renamed.columns)"
   ]
  },
  {
   "cell_type": "markdown",
   "metadata": {
    "azdata_cell_guid": "129ce836-524b-4ea8-b394-a959f9308d6a"
   },
   "source": [
    "## Get to Know the Numbers\n",
    "\n",
    "Now that you have everything setup, put any code that you use to get to know the dataframe and its rows and columns better in the cell below. You can use whatever techniques you like, except for visualizations. You will put those in a separate section.\n",
    "\n",
    "When working on your code, make sure to leave comments so that your mentors can understand your thought process."
   ]
  },
  {
   "cell_type": "code",
   "execution_count": 54,
   "metadata": {},
   "outputs": [
    {
     "data": {
      "text/plain": [
       "(324, 45)"
      ]
     },
     "execution_count": 54,
     "metadata": {},
     "output_type": "execute_result"
    }
   ],
   "source": [
    "monsters_renamed.shape"
   ]
  },
  {
   "cell_type": "code",
   "execution_count": 13,
   "metadata": {},
   "outputs": [
    {
     "data": {
      "text/html": [
       "<div>\n",
       "<style scoped>\n",
       "    .dataframe tbody tr th:only-of-type {\n",
       "        vertical-align: middle;\n",
       "    }\n",
       "\n",
       "    .dataframe tbody tr th {\n",
       "        vertical-align: top;\n",
       "    }\n",
       "\n",
       "    .dataframe thead th {\n",
       "        text-align: right;\n",
       "    }\n",
       "</style>\n",
       "<table border=\"1\" class=\"dataframe\">\n",
       "  <thead>\n",
       "    <tr style=\"text-align: right;\">\n",
       "      <th></th>\n",
       "      <th>Unnamed: 0</th>\n",
       "      <th>name</th>\n",
       "      <th>size</th>\n",
       "      <th>monster_type</th>\n",
       "      <th>alignment</th>\n",
       "      <th>armor_defense</th>\n",
       "      <th>health</th>\n",
       "      <th>strength</th>\n",
       "      <th>str_mod</th>\n",
       "      <th>dex</th>\n",
       "      <th>...</th>\n",
       "      <th>perception</th>\n",
       "      <th>stealth</th>\n",
       "      <th>persuasion</th>\n",
       "      <th>insight</th>\n",
       "      <th>deception</th>\n",
       "      <th>arcana</th>\n",
       "      <th>religion</th>\n",
       "      <th>acrobatics</th>\n",
       "      <th>athletics</th>\n",
       "      <th>intimidation</th>\n",
       "    </tr>\n",
       "  </thead>\n",
       "  <tbody>\n",
       "  </tbody>\n",
       "</table>\n",
       "<p>0 rows × 45 columns</p>\n",
       "</div>"
      ],
      "text/plain": [
       "Empty DataFrame\n",
       "Columns: [Unnamed: 0, name, size, monster_type, alignment, armor_defense, health, strength, str_mod, dex, dex_mod, con, con_mod, intel, int_mod, wis, wis_mod, charisma, cha_mod, senses, languages, challenge_rating, str_save, dex_save, con_save, int_save, wis_save, cha_save, speed, swim, fly, climb, burrow, number_legendary_actions, history, perception, stealth, persuasion, insight, deception, arcana, religion, acrobatics, athletics, intimidation]\n",
       "Index: []\n",
       "\n",
       "[0 rows x 45 columns]"
      ]
     },
     "execution_count": 13,
     "metadata": {},
     "output_type": "execute_result"
    }
   ],
   "source": [
    "duplicate_rows = monsters_renamed[monsters_renamed.duplicated()]\n",
    "duplicate_rows"
   ]
  },
  {
   "cell_type": "code",
   "execution_count": 17,
   "metadata": {},
   "outputs": [
    {
     "name": "stdout",
     "output_type": "stream",
     "text": [
      "Unnamed: 0 - 0%\n",
      "name - 0%\n",
      "size - 0%\n",
      "monster_type - 0%\n",
      "alignment - 0%\n",
      "armor_defense - 0%\n",
      "health - 0%\n",
      "strength - 0%\n",
      "str_mod - 0%\n",
      "dex - 0%\n",
      "dex_mod - 0%\n",
      "con - 0%\n",
      "con_mod - 0%\n",
      "intel - 0%\n",
      "int_mod - 0%\n",
      "wis - 0%\n",
      "wis_mod - 0%\n",
      "charisma - 0%\n",
      "cha_mod - 0%\n",
      "senses - 18%\n",
      "languages - 40%\n",
      "challenge_rating - 0%\n",
      "str_save - 0%\n",
      "dex_save - 0%\n",
      "con_save - 0%\n",
      "int_save - 0%\n",
      "wis_save - 0%\n",
      "cha_save - 0%\n",
      "speed - 0%\n",
      "swim - 0%\n",
      "fly - 0%\n",
      "climb - 0%\n",
      "burrow - 0%\n",
      "number_legendary_actions - 0%\n",
      "history - 0%\n",
      "perception - 0%\n",
      "stealth - 0%\n",
      "persuasion - 0%\n",
      "insight - 0%\n",
      "deception - 0%\n",
      "arcana - 0%\n",
      "religion - 0%\n",
      "acrobatics - 0%\n",
      "athletics - 0%\n",
      "intimidation - 0%\n"
     ]
    }
   ],
   "source": [
    "for col in monsters_renamed.columns:\n",
    "    pct_missing = np.mean(monsters_renamed[col].isnull())\n",
    "    print(f'{col} - {round(pct_missing*100)}%')"
   ]
  },
  {
   "cell_type": "code",
   "execution_count": 77,
   "metadata": {
    "azdata_cell_guid": "0ca2d318-f6e8-43ef-a33e-5304d24d928d",
    "tags": []
   },
   "outputs": [
    {
     "name": "stdout",
     "output_type": "stream",
     "text": [
      "0.000     29\n",
      "0.125     19\n",
      "0.250     32\n",
      "0.500     33\n",
      "1.000     25\n",
      "2.000     41\n",
      "3.000     20\n",
      "4.000     13\n",
      "5.000     25\n",
      "6.000     10\n",
      "7.000      6\n",
      "8.000     10\n",
      "9.000      8\n",
      "10.000     6\n",
      "11.000     7\n",
      "12.000     2\n",
      "13.000     6\n",
      "14.000     3\n",
      "15.000     4\n",
      "16.000     5\n",
      "17.000     4\n",
      "19.000     1\n",
      "20.000     3\n",
      "21.000     4\n",
      "22.000     2\n",
      "23.000     3\n",
      "24.000     2\n",
      "30.000     1\n",
      "Name: challenge_rating, dtype: int64 \n",
      "\n",
      "4.530478395061729\n"
     ]
    }
   ],
   "source": [
    "#looking at challenge rating\n",
    "#Changed the Challenge Rating to a float because 1/4, 1/2, and 1/8 are strings\n",
    "monsters_renamed['challenge_rating'] = monsters_renamed['challenge_rating'].replace({'1/4': 0.25, '1/8': 0.125, '1/2': 0.5}).astype(float)\n",
    "print(monsters_renamed['challenge_rating'].value_counts().sort_index(), '\\n')\n",
    "\n",
    "print(monsters_renamed['challenge_rating'].mean())\n",
    "#mean challenge rating is 4.5"
   ]
  },
  {
   "cell_type": "code",
   "execution_count": 71,
   "metadata": {},
   "outputs": [
    {
     "name": "stdout",
     "output_type": "stream",
     "text": [
      "unaligned                                   128\n",
      "chaotic evil                                 43\n",
      "lawful evil                                  35\n",
      "neutral evil                                 27\n",
      "lawful good                                  19\n",
      "neutral                                      18\n",
      "any alignment                                15\n",
      "chaotic good                                 12\n",
      "shapechanger)                                 6\n",
      "neutral good                                  5\n",
      "any non-good alignment                        4\n",
      "chaotic neutral                               3\n",
      "lawful neutral                                3\n",
      "any non-lawful alignment                      2\n",
      "neutral good (50%) or neutral evil (50%)      1\n",
      "any                                           1\n",
      "any chaotic alignment                         1\n",
      "any evil alignment                            1\n",
      "Name: alignment, dtype: int64 \n",
      "\n"
     ]
    }
   ],
   "source": [
    "#looking at alignments\n",
    "print(monsters_renamed['alignment'].value_counts(), '\\n')\n",
    "\n",
    "#top 3 are: unaligned, chaotic evil, and lawful evil"
   ]
  },
  {
   "cell_type": "code",
   "execution_count": 72,
   "metadata": {},
   "outputs": [
    {
     "name": "stdout",
     "output_type": "stream",
     "text": [
      "Strength Save:  0.3148148148148148\n",
      "Dexterity Save:  1.0030864197530864\n",
      "Constitution Save:  2.006172839506173\n",
      "Intelligence Save:  0.3487654320987654\n",
      "Wisdom Save:  1.5308641975308641\n",
      "Charisma Save:  1.6018518518518519\n"
     ]
    }
   ],
   "source": [
    "#saves\n",
    "print('Strength Save: ', monsters_renamed['str_save'].mean()) #lowest save ability modifier\n",
    "print('Dexterity Save: ', monsters_renamed['dex_save'].mean())\n",
    "print('Constitution Save: ', monsters_renamed['con_save'].mean())\n",
    "print('Intelligence Save: ', monsters_renamed['int_save'].mean()) #second lowest save ability modifier\n",
    "print('Wisdom Save: ', monsters_renamed['wis_save'].mean())\n",
    "print('Charisma Save: ', monsters_renamed['cha_save'].mean())"
   ]
  },
  {
   "cell_type": "code",
   "execution_count": 73,
   "metadata": {},
   "outputs": [
    {
     "name": "stdout",
     "output_type": "stream",
     "text": [
      "Strength Modifier:  2.169753086419753\n",
      "Dexterity Modifier:  1.123456790123457\n",
      "Constitution Modifier:  2.2839506172839505\n",
      "Intelligence Modifier:  -1.308641975308642\n",
      "Wisdom Modifier:  0.6419753086419753\n",
      "Charisma Modifier:  -0.42592592592592593\n"
     ]
    }
   ],
   "source": [
    "#modifiers\n",
    "print('Strength Modifier: ', monsters_renamed['str_mod'].mean())\n",
    "print('Dexterity Modifier: ', monsters_renamed['dex_mod'].mean())\n",
    "print('Constitution Modifier: ', monsters_renamed['con_mod'].mean())\n",
    "print('Intelligence Modifier: ', monsters_renamed['int_mod'].mean()) #negative modifier average\n",
    "print('Wisdom Modifier: ', monsters_renamed['wis_mod'].mean())\n",
    "print('Charisma Modifier: ', monsters_renamed['cha_mod'].mean()) #negative modifier average"
   ]
  },
  {
   "cell_type": "code",
   "execution_count": 67,
   "metadata": {},
   "outputs": [
    {
     "name": "stdout",
     "output_type": "stream",
     "text": [
      "Strength:  15.117283950617283\n",
      "Dexterity:  12.651234567901234\n",
      "Constitution:  15.067901234567902\n",
      "Intelligence:  7.799382716049383\n",
      "Wisdom:  11.688271604938272\n",
      "Charisma:  9.746913580246913\n"
     ]
    }
   ],
   "source": [
    "#ability scores (10 is considered 'average')\n",
    "print('Strength: ', monsters_renamed['strength'].mean())\n",
    "print('Dexterity: ', monsters_renamed['dex'].mean())\n",
    "print('Constitution: ', monsters_renamed['con'].mean())\n",
    "print('Intelligence: ', monsters_renamed['intel'].mean())\n",
    "print('Wisdom: ', monsters_renamed['wis'].mean())\n",
    "print('Charisma: ', monsters_renamed['charisma'].mean())\n",
    "\n",
    "#average monster strength and constitution is higher than normal"
   ]
  },
  {
   "cell_type": "code",
   "execution_count": 47,
   "metadata": {},
   "outputs": [
    {
     "name": "stdout",
     "output_type": "stream",
     "text": [
      "Gargantuan     15\n",
      "Huge           32\n",
      "Large         103\n",
      "Medium        128\n",
      "Small          22\n",
      "Tiny           24\n",
      "Name: size, dtype: int64 \n",
      "\n"
     ]
    },
    {
     "data": {
      "text/plain": [
       "Gargantuan     4.6%\n",
       "Huge           9.9%\n",
       "Large         31.8%\n",
       "Medium        39.5%\n",
       "Small          6.8%\n",
       "Tiny           7.4%\n",
       "Name: size, dtype: object"
      ]
     },
     "execution_count": 47,
     "metadata": {},
     "output_type": "execute_result"
    }
   ],
   "source": [
    "#looking at size\n",
    "print(monsters_renamed['size'].value_counts().sort_index(), '\\n')\n",
    "\n",
    "size_mons = monsters_renamed['size'].value_counts(normalize = True).mul(100).sort_index().round(1).astype(str)+'%'\n",
    "size_mons\n",
    "\n",
    "#Note: most player characters are Medium size, and about 40% of the monsters are Medium as well"
   ]
  },
  {
   "cell_type": "code",
   "execution_count": 50,
   "metadata": {},
   "outputs": [
    {
     "name": "stdout",
     "output_type": "stream",
     "text": [
      "Beast                         87\n",
      "Dragon                        43\n",
      "Monstrosity                   35\n",
      "Humanoid (any race)           21\n",
      "Undead                        17\n",
      "Elemental                     16\n",
      "Swarm of tiny beasts          10\n",
      "Giant                         10\n",
      "Construct                      9\n",
      "Fiend (devil)                  9\n",
      "Fiend (demon)                  8\n",
      "Plant                          6\n",
      "Fey                            6\n",
      "Celestial                      6\n",
      "Aberration                     5\n",
      "Humanoid (human                5\n",
      "Ooze                           4\n",
      "Fiend                          4\n",
      "Humanoid (goblinoid)           3\n",
      "Fiend (shapechanger)           3\n",
      "Monstrosity (titan)            2\n",
      "Monstrosity (shapechanger)     2\n",
      "Humanoid (lizardfolk)          1\n",
      "Undead (shapechanger)          1\n",
      "Humanoid (dwarf)               1\n",
      "Humanoid (sahuagin)            1\n",
      "Humanoid (orc)                 1\n",
      "Humanoid (merfolk)             1\n",
      "Humanoid (kobold)              1\n",
      "Humanoid (gnoll)               1\n",
      "Humanoid (gnome)               1\n",
      "Fiend (devil                   1\n",
      "Humanoid (grimlock)            1\n",
      "Humanoid (human)               1\n",
      "Humanoid (elf)                 1\n",
      "Name: monster_type, dtype: int64 \n",
      "\n"
     ]
    }
   ],
   "source": [
    "#looking at monster_type\n",
    "print(monsters_renamed['monster_type'].value_counts().sort_values(ascending = False), '\\n')\n",
    "\n",
    "#I may not need this for analysis but it's interesting to look at"
   ]
  },
  {
   "cell_type": "code",
   "execution_count": 31,
   "metadata": {},
   "outputs": [
    {
     "name": "stdout",
     "output_type": "stream",
     "text": [
      "0    294\n",
      "3     28\n",
      "4      1\n",
      "5      1\n",
      "Name: number_legendary_actions, dtype: int64 \n",
      "\n"
     ]
    }
   ],
   "source": [
    "#looking at legendary actions\n",
    "print(monsters_renamed['number_legendary_actions'].value_counts().sort_index(), '\\n')\n",
    "\n",
    "#legendary monsters are rare, so it makes sense that there are more monsters with 0 legendary actions"
   ]
  },
  {
   "cell_type": "code",
   "execution_count": 88,
   "metadata": {},
   "outputs": [
    {
     "name": "stdout",
     "output_type": "stream",
     "text": [
      "Number of languages known:  196\n",
      "Number of extra senses:  267\n"
     ]
    }
   ],
   "source": [
    "#senses and languages\n",
    "print('Number of languages known: ', monsters_renamed['languages'].count())\n",
    "#lang = monsters_renamed.groupby('intel')['languages'].count()\n",
    "#lang\n",
    "\n",
    "print('Number of extra senses: ', monsters_renamed['senses'].count())"
   ]
  },
  {
   "cell_type": "markdown",
   "metadata": {
    "azdata_cell_guid": "d45060f3-97bc-484a-9ef4-66145bbe9427"
   },
   "source": [
    "## Visualize\n",
    "\n",
    "Create any visualizations for your EDA here. Make note in the 4form of code comments of what your thought process is for your visualizations."
   ]
  },
  {
   "cell_type": "code",
   "execution_count": 164,
   "metadata": {
    "azdata_cell_guid": "f4565b03-759a-47a8-b58f-01b32a0b4b67"
   },
   "outputs": [
    {
     "data": {
      "text/plain": [
       "<AxesSubplot:title={'center':'Average Speed of Monsters Depending on their Size'}, xlabel='Monster Size', ylabel='Average Speed'>"
      ]
     },
     "execution_count": 164,
     "metadata": {},
     "output_type": "execute_result"
    },
    {
     "data": {
      "image/png": "[encoded data removed]",
      "text/plain": [
       "<Figure size 640x480 with 1 Axes>"
      ]
     },
     "metadata": {},
     "output_type": "display_data"
    }
   ],
   "source": [
    "#df_monster_type = pd.DataFrame(monsters_renamed['monster_type'].value_counts().sort_values(ascending = False))\n",
    "#top_5 = df_monster_type.nlargest(5, 'monster_type')\n",
    "\n",
    "x = monsters_renamed['size'].sort_values(ascending = True)\n",
    "y = monsters_renamed['speed']\n",
    "speed_size = sns.barplot(y = y, x = x)\n",
    "plt.title(\"Average Speed of Monsters Depending on their Size\", color = \"blue\")\n",
    "plt.xlabel(\"Monster Size\", color = \"blue\")\n",
    "plt.ylabel(\"Average Speed\", color = \"blue\")\n",
    "speed_size"
   ]
  },
  {
   "cell_type": "code",
   "execution_count": 191,
   "metadata": {
    "azdata_cell_guid": "cd64bab1-db4c-4295-820d-c6464b653a3e"
   },
   "outputs": [
    {
     "data": {
      "text/plain": [
       "Text(0.5, 1.0, 'CR vs Charisma')"
      ]
     },
     "execution_count": 191,
     "metadata": {},
     "output_type": "execute_result"
    },
    {
     "data": {
      "image/png": "[encoded data removed]",
      "text/plain": [
       "<Figure size 640x480 with 6 Axes>"
      ]
     },
     "metadata": {},
     "output_type": "display_data"
    }
   ],
   "source": [
    "cr_stats = monsters_renamed.groupby('challenge_rating')[['strength', 'dex', 'con', 'intel', 'wis', 'charisma']].mean()\n",
    "\n",
    "cr = monsters_renamed['challenge_rating']\n",
    "strength = monsters_renamed['strength']\n",
    "dex = monsters_renamed['dex']\n",
    "con = monsters_renamed['con']\n",
    "intel = monsters_renamed['intel']\n",
    "wis = monsters_renamed['wis']\n",
    "charisma = monsters_renamed['charisma']\n",
    "\n",
    "\n",
    "fig, axs = plt.subplots(2, 3, sharex = True, sharey = True)\n",
    "axs[0, 0].scatter(cr, strength, color = 'lightblue', s = 10)\n",
    "axs[0, 0].set_title('CR vs Strength')\n",
    "\n",
    "axs[0, 1].scatter(cr, dex, color = 'lightgreen', s = 10)\n",
    "axs[0, 1].set_title('CR vs Dexterity')\n",
    "\n",
    "axs[0, 2].scatter(cr, con, color = 'violet', s = 10)\n",
    "axs[0, 2].set_title('CR vs Constitution')\n",
    "\n",
    "axs[1, 0].scatter(cr, intel, color = 'blue', s = 10)\n",
    "axs[1, 0].set_title('CR vs Intelligence')\n",
    "\n",
    "axs[1, 1].scatter(cr, wis, color = 'darkgreen', s = 10)\n",
    "axs[1, 1].set_title('CR vs Wisdom')\n",
    "\n",
    "axs[1, 2].scatter(cr, charisma, color = 'purple', s = 10)\n",
    "axs[1, 2].set_title('CR vs Charisma')"
   ]
  },
  {
   "cell_type": "code",
   "execution_count": 89,
   "metadata": {},
   "outputs": [
    {
     "data": {
      "image/png": "[encoded data removed]",
      "text/plain": [
       "<Figure size 640x480 with 2 Axes>"
      ]
     },
     "metadata": {},
     "output_type": "display_data"
    }
   ],
   "source": [
    "#Hit points and Monster Types\n",
    "health_monsters = monsters_renamed.groupby('monster_type')[['health', 'armor_defense']].mean()\n",
    "health_df = pd.DataFrame(health_monsters.nlargest(10, ['health', 'armor_defense']))\n",
    "health_df\n",
    "#health_df.plot.barh(legend = True, color = \"skyblue\", edgecolor = \"blue\")\n",
    "\n",
    "#armor_class = health_df.sort_values('armor_defense').tail(5) \n",
    "#Results: monstrosity (titan), dragon, humanoid(human), celestial, humanoid (goblinoid)\n",
    "#health_points = health_df.sort_values('health').tail(5) \n",
    "#Results: monstrosity (titan), dragon, undead (shapechanger), fiend (devil), celestial\n",
    "\n",
    "#common_monsters = monsters_renamed['monster_type'].value_counts().nlargest(10)\n",
    "#common_monsters\n",
    "#print(armor_class, '\\n', health_points, '\\n', common_monsters)\n",
    "#Results: beast, dragon, monstrosity, humanoid (any race), undead\n",
    "\n",
    "\n",
    "fig = plt.figure() # Create matplotlib figure\n",
    "\n",
    "ax = fig.add_subplot(111) # Create matplotlib axes\n",
    "ax2 = ax.twinx() # Create another axes that shares the same x-axis as ax.\n",
    "\n",
    "width = 0.4\n",
    "\n",
    "health_df.health.plot(kind='bar', color='red', ax=ax, width=width, position=1, legend = True)\n",
    "health_df.armor_defense.plot(kind='bar', color='blue', ax=ax2, width=width, position=0, legend = True)\n",
    "\n",
    "ax.set_ylabel('Health')\n",
    "ax2.set_ylabel('Armor (Defense)')\n",
    "\n",
    "plt.show()\n"
   ]
  },
  {
   "cell_type": "code",
   "execution_count": null,
   "metadata": {},
   "outputs": [],
   "source": [
    "#Intelligence and Alignment\n"
   ]
  },
  {
   "cell_type": "markdown",
   "metadata": {
    "azdata_cell_guid": "d4931c0c-2c09-4ee1-95d4-73dd08c2f0a6"
   },
   "source": [
    "## Summarize Your Results\n",
    "\n",
    "With your EDA complete, answer the following questions.\n",
    "\n",
    "1. Was there anything surprising about your dataset? \n",
    "2. Do you have any concerns about your dataset? \n",
    "3. Is there anything you want to make note of for the next phase of your analysis, which is cleaning data? "
   ]
  },
  {
   "cell_type": "code",
   "execution_count": null,
   "metadata": {},
   "outputs": [],
   "source": []
  }
 ],
 "metadata": {
  "kernelspec": {
   "display_name": "Python 3 (ipykernel)",
   "language": "python",
   "name": "python3"
  },
  "language_info": {
   "codemirror_mode": {
    "name": "ipython",
    "version": 3
   },
   "file_extension": ".py",
   "mimetype": "text/x-python",
   "name": "python",
   "nbconvert_exporter": "python",
   "pygments_lexer": "ipython3",
   "version": "3.9.13"
  }
 },
 "nbformat": 4,
 "nbformat_minor": 2
}
